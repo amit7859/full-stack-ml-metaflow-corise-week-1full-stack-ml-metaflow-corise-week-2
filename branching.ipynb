{
 "cells": [
  {
   "cell_type": "code",
   "execution_count": 18,
   "metadata": {},
   "outputs": [
    {
     "name": "stdout",
     "output_type": "stream",
     "text": [
      "Overwriting branching.py\n"
     ]
    }
   ],
   "source": [
    "%%writefile branching.py\n",
    "\n",
    "from dataclasses import dataclass, asdict\n",
    "\n",
    "@dataclass\n",
    "class ModelResult:\n",
    "    \"A custom struct for storing model evaluation results.\"\n",
    "    name: None\n",
    "\n",
    "    \n",
    "from metaflow import FlowSpec, step\n",
    "\n",
    "class SimpleBranchingFlow(FlowSpec):\n",
    "\n",
    "    @step\n",
    "    def start(self):\n",
    "        self.next(self.a, self.b)\n",
    "\n",
    "    @step\n",
    "    def a(self):\n",
    "        self.from_a = 5\n",
    "        self.result_a = ModelResult(\"1\")\n",
    "\n",
    "        self.next(self.join)\n",
    "\n",
    "    @step\n",
    "    def b(self):\n",
    "        self.from_b = 7\n",
    "        self.result_b = ModelResult(\"2\")\n",
    "\n",
    "        self.next(self.join)\n",
    "        # print('from_a is %d' % self.from_a)\n",
    "        print('result from a is: %d' % inputs.a.result_a)\n",
    "        print('results from b is: ' + str(inputs.b.results_a))\n",
    "\n",
    "        print('from_a is %d' % inputs.a.from_a)\n",
    "        print('y from b is %d' % inputs.b.y)\n",
    "        # print('from_a is %d' % self.from_a)\n",
    "\n",
    "        self.x = inputs.a.x\n",
    "        self.merge_artifacts(inputs, exclude=['y'])\n",
    "        print('x is %s' % self.x)\n",
    "        print('pass_down is %s' % self.pass_down)\n",
    "        print('common is %d' % self.common)\n",
    "        print('from_a is %d' % self.from_a)\n",
    "        print('from_a is %d' % self.from_a)\n",
    "        self.next(self.end)\n",
    "\n",
    "    @step\n",
    "    def join(self, inputs):\n",
    "        self.merge_artifacts(inputs)\n",
    "        print(self.from_a)\n",
    "        print(self.result_a.name)\n",
    "        print(self.from_b)\n",
    "        print(self.result_b.name)\n",
    "\n",
    "        self.next(self.end)\n",
    "\n",
    "    @step\n",
    "    def end(self):\n",
    "        pass\n",
    "\n",
    "if __name__ == '__main__':\n",
    "    SimpleBranchingFlow()"
   ]
  },
  {
   "cell_type": "code",
   "execution_count": 19,
   "metadata": {},
   "outputs": [
    {
     "name": "stdout",
     "output_type": "stream",
     "text": [
      "\u001b[35m\u001b[1mMetaflow 2.9.7.2+ob(v1)\u001b[0m\u001b[35m\u001b[22m executing \u001b[0m\u001b[31m\u001b[1mSimpleBranchingFlow\u001b[0m\u001b[35m\u001b[22m\u001b[0m\u001b[35m\u001b[22m for \u001b[0m\u001b[31m\u001b[1muser:sandbox\u001b[0m\u001b[35m\u001b[22m\u001b[K\u001b[0m\u001b[35m\u001b[22m\u001b[0m\n",
      "\u001b[35m\u001b[22mValidating your flow...\u001b[K\u001b[0m\u001b[35m\u001b[22m\u001b[0m\n",
      "\u001b[32m\u001b[1m    The graph looks good!\u001b[K\u001b[0m\u001b[32m\u001b[1m\u001b[0m\n",
      "\u001b[35m\u001b[22mRunning pylint...\u001b[K\u001b[0m\u001b[35m\u001b[22m\u001b[0m\n",
      "\u001b[32m\u001b[1m    Pylint is happy!\u001b[K\u001b[0m\u001b[32m\u001b[1m\u001b[0m\n",
      "\u001b[35m2023-10-31 17:27:35.734 \u001b[0m\u001b[1mWorkflow starting (run-id 17), see it in the UI at https://ui-pw-906649423.outerbounds.dev/SimpleBranchingFlow/17\u001b[0m\n",
      "\u001b[35m2023-10-31 17:27:35.977 \u001b[0m\u001b[32m[17/start/96 (pid 26681)] \u001b[0m\u001b[1mTask is starting.\u001b[0m\n",
      "\u001b[35m2023-10-31 17:27:39.420 \u001b[0m\u001b[32m[17/start/96 (pid 26681)] \u001b[0m\u001b[1mTask finished successfully.\u001b[0m\n",
      "\u001b[35m2023-10-31 17:27:39.822 \u001b[0m\u001b[32m[17/a/97 (pid 26762)] \u001b[0m\u001b[1mTask is starting.\u001b[0m\n",
      "\u001b[35m2023-10-31 17:27:40.063 \u001b[0m\u001b[32m[17/b/98 (pid 26765)] \u001b[0m\u001b[1mTask is starting.\u001b[0m\n",
      "\u001b[35m2023-10-31 17:27:43.877 \u001b[0m\u001b[32m[17/a/97 (pid 26762)] \u001b[0m\u001b[1mTask finished successfully.\u001b[0m\n",
      "\u001b[35m2023-10-31 17:27:44.352 \u001b[0m\u001b[32m[17/b/98 (pid 26765)] \u001b[0m\u001b[1mTask finished successfully.\u001b[0m\n",
      "\u001b[35m2023-10-31 17:27:44.732 \u001b[0m\u001b[32m[17/join/99 (pid 26892)] \u001b[0m\u001b[1mTask is starting.\u001b[0m\n",
      "\u001b[35m2023-10-31 17:27:47.051 \u001b[0m\u001b[32m[17/join/99 (pid 26892)] \u001b[0m\u001b[22m5\u001b[0m\n",
      "\u001b[35m2023-10-31 17:27:47.076 \u001b[0m\u001b[32m[17/join/99 (pid 26892)] \u001b[0m\u001b[22m1\u001b[0m\n",
      "\u001b[35m2023-10-31 17:27:47.107 \u001b[0m\u001b[32m[17/join/99 (pid 26892)] \u001b[0m\u001b[22m7\u001b[0m\n",
      "\u001b[35m2023-10-31 17:27:47.163 \u001b[0m\u001b[32m[17/join/99 (pid 26892)] \u001b[0m\u001b[22m2\u001b[0m\n",
      "\u001b[35m2023-10-31 17:27:50.783 \u001b[0m\u001b[32m[17/join/99 (pid 26892)] \u001b[0m\u001b[1mTask finished successfully.\u001b[0m\n",
      "\u001b[35m2023-10-31 17:27:51.166 \u001b[0m\u001b[32m[17/end/100 (pid 26977)] \u001b[0m\u001b[1mTask is starting.\u001b[0m\n",
      "\u001b[35m2023-10-31 17:27:54.293 \u001b[0m\u001b[32m[17/end/100 (pid 26977)] \u001b[0m\u001b[1mTask finished successfully.\u001b[0m\n",
      "\u001b[35m2023-10-31 17:27:54.418 \u001b[0m\u001b[1mDone! See the run in the UI at https://ui-pw-906649423.outerbounds.dev/SimpleBranchingFlow/17\u001b[0m\n"
     ]
    }
   ],
   "source": [
    "! python branching.py run "
   ]
  },
  {
   "cell_type": "code",
   "execution_count": 21,
   "metadata": {},
   "outputs": [
    {
     "name": "stdout",
     "output_type": "stream",
     "text": [
      "True\n",
      "5\n",
      "7\n"
     ]
    },
    {
     "ename": "AttributeError",
     "evalue": "Can't get attribute 'ModelResult' on <module '__main__'>",
     "output_type": "error",
     "traceback": [
      "\u001b[0;31m---------------------------------------------------------------------------\u001b[0m",
      "\u001b[0;31mAttributeError\u001b[0m                            Traceback (most recent call last)",
      "Cell \u001b[0;32mIn[21], line 18\u001b[0m\n\u001b[1;32m     15\u001b[0m \u001b[39mprint\u001b[39m(run\u001b[39m.\u001b[39mdata\u001b[39m.\u001b[39mfrom_a)      \u001b[39m# Works fine\u001b[39;00m\n\u001b[1;32m     16\u001b[0m \u001b[39mprint\u001b[39m(run\u001b[39m.\u001b[39mdata\u001b[39m.\u001b[39mfrom_b)      \u001b[39m# Works fine\u001b[39;00m\n\u001b[0;32m---> 18\u001b[0m \u001b[39mprint\u001b[39m(run\u001b[39m.\u001b[39;49mdata\u001b[39m.\u001b[39;49mresult_a\u001b[39m.\u001b[39mname)\n\u001b[1;32m     19\u001b[0m \u001b[39mprint\u001b[39m(run\u001b[39m.\u001b[39mdata\u001b[39m.\u001b[39mresult_b\u001b[39m.\u001b[39mname)\n",
      "File \u001b[0;32m~/mambaforge/envs/full-stack-metaflow-corise/lib/python3.10/site-packages/metaflow/client/core.py:738\u001b[0m, in \u001b[0;36mMetaflowData.__getattr__\u001b[0;34m(self, name)\u001b[0m\n\u001b[1;32m    737\u001b[0m \u001b[39mdef\u001b[39;00m \u001b[39m__getattr__\u001b[39m(\u001b[39mself\u001b[39m, name: \u001b[39mstr\u001b[39m):\n\u001b[0;32m--> 738\u001b[0m     \u001b[39mreturn\u001b[39;00m \u001b[39mself\u001b[39;49m\u001b[39m.\u001b[39;49m_artifacts[name]\u001b[39m.\u001b[39;49mdata\n",
      "File \u001b[0;32m~/mambaforge/envs/full-stack-metaflow-corise/lib/python3.10/site-packages/metaflow/client/core.py:906\u001b[0m, in \u001b[0;36mDataArtifact.data\u001b[0;34m(self)\u001b[0m\n\u001b[1;32m    895\u001b[0m meta \u001b[39m=\u001b[39m {\n\u001b[1;32m    896\u001b[0m     \u001b[39m\"\u001b[39m\u001b[39mobjects\u001b[39m\u001b[39m\"\u001b[39m: {\u001b[39mself\u001b[39m\u001b[39m.\u001b[39m_object[\u001b[39m\"\u001b[39m\u001b[39mname\u001b[39m\u001b[39m\"\u001b[39m]: \u001b[39mself\u001b[39m\u001b[39m.\u001b[39m_object[\u001b[39m\"\u001b[39m\u001b[39msha\u001b[39m\u001b[39m\"\u001b[39m]},\n\u001b[1;32m    897\u001b[0m     \u001b[39m\"\u001b[39m\u001b[39minfo\u001b[39m\u001b[39m\"\u001b[39m: {\n\u001b[0;32m   (...)\u001b[0m\n\u001b[1;32m    903\u001b[0m     },\n\u001b[1;32m    904\u001b[0m }\n\u001b[1;32m    905\u001b[0m \u001b[39mif\u001b[39;00m location\u001b[39m.\u001b[39mstartswith(\u001b[39m\"\u001b[39m\u001b[39m:root:\u001b[39m\u001b[39m\"\u001b[39m):\n\u001b[0;32m--> 906\u001b[0m     obj \u001b[39m=\u001b[39m filecache\u001b[39m.\u001b[39;49mget_artifact(ds_type, location[\u001b[39m6\u001b[39;49m:], meta, \u001b[39m*\u001b[39;49mcomponents)\n\u001b[1;32m    907\u001b[0m \u001b[39melse\u001b[39;00m:\n\u001b[1;32m    908\u001b[0m     \u001b[39m# Older artifacts have a location information which we can use.\u001b[39;00m\n\u001b[1;32m    909\u001b[0m     obj \u001b[39m=\u001b[39m filecache\u001b[39m.\u001b[39mget_artifact_by_location(\n\u001b[1;32m    910\u001b[0m         ds_type, location, meta, \u001b[39m*\u001b[39mcomponents\n\u001b[1;32m    911\u001b[0m     )\n",
      "File \u001b[0;32m~/mambaforge/envs/full-stack-metaflow-corise/lib/python3.10/site-packages/metaflow/client/filecache.py:207\u001b[0m, in \u001b[0;36mFileCache.get_artifact\u001b[0;34m(self, ds_type, ds_root, data_metadata, flow_name, run_id, step_name, task_id, name)\u001b[0m\n\u001b[1;32m    196\u001b[0m \u001b[39mdef\u001b[39;00m \u001b[39mget_artifact\u001b[39m(\n\u001b[1;32m    197\u001b[0m     \u001b[39mself\u001b[39m,\n\u001b[1;32m    198\u001b[0m     ds_type,\n\u001b[0;32m   (...)\u001b[0m\n\u001b[1;32m    205\u001b[0m     name,\n\u001b[1;32m    206\u001b[0m ):\n\u001b[0;32m--> 207\u001b[0m     _, obj \u001b[39m=\u001b[39m \u001b[39mnext\u001b[39;49m(\n\u001b[1;32m    208\u001b[0m         \u001b[39mself\u001b[39;49m\u001b[39m.\u001b[39;49mget_artifacts(\n\u001b[1;32m    209\u001b[0m             ds_type,\n\u001b[1;32m    210\u001b[0m             ds_root,\n\u001b[1;32m    211\u001b[0m             data_metadata,\n\u001b[1;32m    212\u001b[0m             flow_name,\n\u001b[1;32m    213\u001b[0m             run_id,\n\u001b[1;32m    214\u001b[0m             step_name,\n\u001b[1;32m    215\u001b[0m             task_id,\n\u001b[1;32m    216\u001b[0m             [name],\n\u001b[1;32m    217\u001b[0m         )\n\u001b[1;32m    218\u001b[0m     )\n\u001b[1;32m    219\u001b[0m     \u001b[39mreturn\u001b[39;00m obj\n",
      "File \u001b[0;32m~/mambaforge/envs/full-stack-metaflow-corise/lib/python3.10/site-packages/metaflow/datastore/task_datastore.py:370\u001b[0m, in \u001b[0;36mTaskDataStore.load_artifacts\u001b[0;34m(self, names)\u001b[0m\n\u001b[1;32m    365\u001b[0m names \u001b[39m=\u001b[39m to_load[key]\n\u001b[1;32m    366\u001b[0m \u001b[39mfor\u001b[39;00m name \u001b[39min\u001b[39;00m names:\n\u001b[1;32m    367\u001b[0m     \u001b[39m# We unpickle everytime to have fully distinct objects (the user\u001b[39;00m\n\u001b[1;32m    368\u001b[0m     \u001b[39m# would not expect two artifacts with different names to actually\u001b[39;00m\n\u001b[1;32m    369\u001b[0m     \u001b[39m# be aliases of one another)\u001b[39;00m\n\u001b[0;32m--> 370\u001b[0m     \u001b[39myield\u001b[39;00m name, pickle\u001b[39m.\u001b[39;49mloads(blob)\n",
      "\u001b[0;31mAttributeError\u001b[0m: Can't get attribute 'ModelResult' on <module '__main__'>"
     ]
    }
   ],
   "source": [
    "from metaflow import Flow\n",
    "name = 'SimpleBranchingFlow'\n",
    "run = Flow(name).latest_run\n",
    "print(run.successful)\n",
    "\n",
    "# print(run.data)\n",
    "# print(run.data.test1)\n",
    "# print(run.data.test2)\n",
    "# print(run.data.result1)\n",
    "# print(run.data.result2)\n",
    "\n",
    "# print(run.data.model_result_a)\n",
    "# print(run.data.model_result_b)\n",
    "\n",
    "print(run.data.from_a)      # Works fine - prints 5\n",
    "print(run.data.from_b)      # Works fine  - prints 7\n",
    "\n",
    "print(run.data.result_a.name)   # Error\n",
    "print(run.data.result_b.name)   # Error "
   ]
  }
 ],
 "metadata": {
  "kernelspec": {
   "display_name": "full-stack-metaflow-corise",
   "language": "python",
   "name": "python3"
  },
  "language_info": {
   "codemirror_mode": {
    "name": "ipython",
    "version": 3
   },
   "file_extension": ".py",
   "mimetype": "text/x-python",
   "name": "python",
   "nbconvert_exporter": "python",
   "pygments_lexer": "ipython3",
   "version": "3.10.8"
  },
  "orig_nbformat": 4
 },
 "nbformat": 4,
 "nbformat_minor": 2
}
